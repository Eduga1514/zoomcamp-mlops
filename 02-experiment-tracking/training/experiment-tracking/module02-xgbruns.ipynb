{
 "cells": [
  {
   "cell_type": "code",
   "execution_count": 1,
   "id": "f8c89987-168a-4fc3-b295-d7d1d165838e",
   "metadata": {},
   "outputs": [],
   "source": [
    "# Import packages for preparing and training data\n",
    "import numpy as np\n",
    "import pandas as pd\n",
    "from sklearn.feature_extraction import DictVectorizer\n",
    "from sklearn.linear_model import LinearRegression\n",
    "from sklearn.linear_model import Lasso\n",
    "from sklearn.metrics import mean_squared_error"
   ]
  },
  {
   "cell_type": "code",
   "execution_count": 2,
   "id": "0ad50a2b-0e01-4670-9fbb-79a1741bea49",
   "metadata": {},
   "outputs": [
    {
     "data": {
      "text/plain": [
       "<Experiment: artifact_location='/home/eduga_1514/mlops-zoomcamp-root/eduga-mlops-zoomcamp/02-experiment-tracking/training/experiment-tracking/mlruns/1', creation_time=1716587323151, experiment_id='1', last_update_time=1716587323151, lifecycle_stage='active', name='nyc-taxi-experiment', tags={}>"
      ]
     },
     "execution_count": 2,
     "metadata": {},
     "output_type": "execute_result"
    }
   ],
   "source": [
    "# Import MLFlow for experiment tracking\n",
    "import mlflow\n",
    "\n",
    "mlflow.set_tracking_uri(\"sqlite:///mlflow.db\")\n",
    "mlflow.set_experiment(\"nyc-taxi-experiment\")"
   ]
  },
  {
   "cell_type": "code",
   "execution_count": 3,
   "id": "ba7156e3-6f45-4cb6-9be2-01302eab2db3",
   "metadata": {},
   "outputs": [],
   "source": [
    "# Import xgb and hyperopt\n",
    "\n",
    "import xgboost as xgb\n",
    "\n",
    "from hyperopt import fmin, tpe, hp, STATUS_OK, Trials\n",
    "from hyperopt.pyll import scope"
   ]
  },
  {
   "cell_type": "code",
   "execution_count": 4,
   "id": "b26b5af4-aa14-49d3-be5b-385b9c3706f1",
   "metadata": {},
   "outputs": [],
   "source": [
    "# Compact steps above into a function\n",
    "def prepare_taxi_data(file, target, categorical):\n",
    "    df = pd.read_parquet(file)\n",
    "    df[\"duration\"] = df[\"tpep_dropoff_datetime\"] - df[\"tpep_pickup_datetime\"]\n",
    "    df[\"duration\"] = pd.to_timedelta(df[\"duration\"])/pd.Timedelta('60s')\n",
    "\n",
    "    outliers_indices = np.where((df[target] < 1) | (df[target] > 60))\n",
    "    df = df.drop(outliers_indices[0])\n",
    "\n",
    "    df[categorical] = df[categorical].astype(str)\n",
    "\n",
    "    return df"
   ]
  },
  {
   "cell_type": "code",
   "execution_count": 5,
   "id": "31be5c31-af7f-4c3b-b75c-8cdc72a7ad78",
   "metadata": {},
   "outputs": [],
   "source": [
    "# Prepare training data\n",
    "training_df = prepare_taxi_data(\n",
    "    '../../../data/yellow_tripdata_2023-01.parquet', target='duration', categorical=['PULocationID', 'DOLocationID']\n",
    ")\n",
    "\n",
    "# Prepare validation data\n",
    "validate_df = prepare_taxi_data(\n",
    "    '../../../data/yellow_tripdata_2023-02.parquet', target='duration', categorical=['PULocationID', 'DOLocationID']\n",
    ")"
   ]
  },
  {
   "cell_type": "code",
   "execution_count": 6,
   "id": "e17f8873-c3ba-4e37-88b6-5f9967fa443e",
   "metadata": {},
   "outputs": [],
   "source": [
    "# One-hot encode and get features matrix\n",
    "dv = DictVectorizer()\n",
    "\n",
    "train_dicts = training_df[['PULocationID', 'DOLocationID']].to_dict(orient='records')\n",
    "X_train = dv.fit_transform(train_dicts)\n",
    "\n",
    "val_dicts = validate_df[['PULocationID', 'DOLocationID']].to_dict(orient='records')\n",
    "X_val = dv.transform(val_dicts)\n",
    "\n",
    "# Prepare target values to train the model\n",
    "y_train = training_df['duration'].values\n",
    "y_val = validate_df['duration'].values"
   ]
  },
  {
   "cell_type": "code",
   "execution_count": 7,
   "id": "4a93ad7e-48c3-45b8-94b7-accf3094fef1",
   "metadata": {},
   "outputs": [],
   "source": [
    "train = xgb.DMatrix(X_train, label=y_train)\n",
    "valid = xgb.DMatrix(X_val, label=y_val)"
   ]
  },
  {
   "cell_type": "code",
   "execution_count": null,
   "id": "29fc1399-d555-48c5-a8a4-6e6a1c2cbf69",
   "metadata": {},
   "outputs": [],
   "source": [
    "def objective(params):\n",
    "    with mlflow.start_run():\n",
    "        mlflow.set_tag('model', 'xgboost')\n",
    "        mlflow.log_params(params)\n",
    "        booster = xgb.train(\n",
    "            params=params,\n",
    "            dtrain=train,\n",
    "            num_boost_round=250,\n",
    "            evals=[(valid, 'validation')],\n",
    "            early_stopping_rounds=50\n",
    "        )\n",
    "        y_pred = booster.predict(valid)\n",
    "        rmse = mean_squared_error(y_val, y_pred, squared=False)\n",
    "        mlflow.log_metric(\"rmse\", rmse)\n",
    "\n",
    "    return {'loss': rmse, 'status': STATUS_OK}"
   ]
  },
  {
   "cell_type": "code",
   "execution_count": null,
   "id": "9a6edb24-e2fb-4f36-af6e-1354d9b55303",
   "metadata": {},
   "outputs": [],
   "source": [
    "search_space = {\n",
    "    'max_depth': scope.int(hp.quniform('max_depth', 4, 100, 1)),\n",
    "    'learning_rate': hp.loguniform('learning_rate', -3, 0),\n",
    "    'reg_alpha': hp.loguniform('reg_alpha', -5, -1),\n",
    "    'reg_lambda': hp.loguniform('reg_lambda', -6, -1),\n",
    "    'min_child_weight': hp.loguniform('min_child_weight', -1, 3),\n",
    "    'objective': 'reg:squarederror',\n",
    "    'seed': 42\n",
    "}\n",
    "\n",
    "best_result = fmin(\n",
    "    fn=objective,\n",
    "    space=search_space,\n",
    "    algo=tpe.suggest,\n",
    "    max_evals=50,\n",
    "    trials=Trials()\n",
    ")"
   ]
  },
  {
   "cell_type": "code",
   "execution_count": null,
   "id": "821bd742-51a1-4f47-88fc-951bbe0e9e51",
   "metadata": {},
   "outputs": [],
   "source": [
    "# Model the best run from mlflow, performance and optimization wise\n",
    "params = {\n",
    "    'learning_rate': 0.7720684014557972,\n",
    "    'max_depth': 58,\n",
    "    'min_child_weight': 0.6989693091372148,\n",
    "    'objective': 'reg:squarederror',\n",
    "    'reg_alpha': 0.015100098245236579,\n",
    "    'reg_lambda': 0.03214589450610109,\n",
    "    'seed': 42\n",
    "}\n",
    "\n",
    "mlflow.xgboost.autolog()\n",
    "\n",
    "with mlflow.start_run():\n",
    "    mlflow.set_tag('model', 'xgboost')\n",
    "    booster = xgb.train(\n",
    "        params=params,\n",
    "        dtrain=train,\n",
    "        num_boost_round=250,\n",
    "        evals=[(valid, 'validation')],\n",
    "        early_stopping_rounds=50\n",
    "    )"
   ]
  },
  {
   "cell_type": "code",
   "execution_count": null,
   "id": "a51b6f7b-c057-4a91-97a8-adf09df4db9c",
   "metadata": {},
   "outputs": [],
   "source": []
  }
 ],
 "metadata": {
  "kernelspec": {
   "display_name": "Python 3 (ipykernel)",
   "language": "python",
   "name": "python3"
  },
  "language_info": {
   "codemirror_mode": {
    "name": "ipython",
    "version": 3
   },
   "file_extension": ".py",
   "mimetype": "text/x-python",
   "name": "python",
   "nbconvert_exporter": "python",
   "pygments_lexer": "ipython3",
   "version": "3.11.7"
  }
 },
 "nbformat": 4,
 "nbformat_minor": 5
}
