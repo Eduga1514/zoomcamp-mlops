{
 "cells": [
  {
   "cell_type": "code",
   "execution_count": 1,
   "id": "f8c89987-168a-4fc3-b295-d7d1d165838e",
   "metadata": {},
   "outputs": [],
   "source": [
    "# Import packages for preparing and training data\n",
    "import numpy as np\n",
    "import pandas as pd\n",
    "from sklearn.feature_extraction import DictVectorizer\n",
    "from sklearn.linear_model import LinearRegression\n",
    "from sklearn.linear_model import Lasso\n",
    "from sklearn.metrics import mean_squared_error"
   ]
  },
  {
   "cell_type": "code",
   "execution_count": 2,
   "id": "0ad50a2b-0e01-4670-9fbb-79a1741bea49",
   "metadata": {},
   "outputs": [
    {
     "data": {
      "text/plain": [
       "<Experiment: artifact_location='/home/eduga_1514/mlops-zoomcamp-root/eduga-mlops-zoomcamp/02-experiment-tracking/training/experiment-tracking/mlruns/1', creation_time=1716587323151, experiment_id='1', last_update_time=1716587323151, lifecycle_stage='active', name='nyc-taxi-experiment', tags={}>"
      ]
     },
     "execution_count": 2,
     "metadata": {},
     "output_type": "execute_result"
    }
   ],
   "source": [
    "# Import MLFlow for experiment tracking\n",
    "import mlflow\n",
    "\n",
    "mlflow.set_tracking_uri(\"sqlite:///mlflow.db\")\n",
    "mlflow.set_experiment(\"nyc-taxi-experiment\")"
   ]
  },
  {
   "cell_type": "code",
   "execution_count": 3,
   "id": "ba7156e3-6f45-4cb6-9be2-01302eab2db3",
   "metadata": {},
   "outputs": [],
   "source": [
    "# Import xgb and hyperopt\n",
    "\n",
    "import xgboost as xgb\n",
    "\n",
    "from hyperopt import fmin, tpe, hp, STATUS_OK, Trials\n",
    "from hyperopt.pyll import scope"
   ]
  },
  {
   "cell_type": "code",
   "execution_count": 4,
   "id": "b26b5af4-aa14-49d3-be5b-385b9c3706f1",
   "metadata": {},
   "outputs": [],
   "source": [
    "# Compact steps above into a function\n",
    "def prepare_taxi_data(file, target, categorical):\n",
    "    df = pd.read_parquet(file)\n",
    "    df[\"duration\"] = df[\"tpep_dropoff_datetime\"] - df[\"tpep_pickup_datetime\"]\n",
    "    df[\"duration\"] = pd.to_timedelta(df[\"duration\"])/pd.Timedelta('60s')\n",
    "\n",
    "    outliers_indices = np.where((df[target] < 1) | (df[target] > 60))\n",
    "    df = df.drop(outliers_indices[0])\n",
    "\n",
    "    df[categorical] = df[categorical].astype(str)\n",
    "\n",
    "    return df"
   ]
  },
  {
   "cell_type": "code",
   "execution_count": 5,
   "id": "31be5c31-af7f-4c3b-b75c-8cdc72a7ad78",
   "metadata": {},
   "outputs": [],
   "source": [
    "# Prepare training data\n",
    "training_df = prepare_taxi_data(\n",
    "    '../../../data/yellow_tripdata_2023-01.parquet', target='duration', categorical=['PULocationID', 'DOLocationID']\n",
    ")\n",
    "\n",
    "# Prepare validation data\n",
    "validate_df = prepare_taxi_data(\n",
    "    '../../../data/yellow_tripdata_2023-02.parquet', target='duration', categorical=['PULocationID', 'DOLocationID']\n",
    ")"
   ]
  },
  {
   "cell_type": "code",
   "execution_count": 6,
   "id": "e17f8873-c3ba-4e37-88b6-5f9967fa443e",
   "metadata": {},
   "outputs": [],
   "source": [
    "# One-hot encode and get features matrix\n",
    "dv = DictVectorizer()\n",
    "\n",
    "train_dicts = training_df[['PULocationID', 'DOLocationID']].to_dict(orient='records')\n",
    "X_train = dv.fit_transform(train_dicts)\n",
    "\n",
    "val_dicts = validate_df[['PULocationID', 'DOLocationID']].to_dict(orient='records')\n",
    "X_val = dv.transform(val_dicts)\n",
    "\n",
    "# Prepare target values to train the model\n",
    "y_train = training_df['duration'].values\n",
    "y_val = validate_df['duration'].values"
   ]
  },
  {
   "cell_type": "code",
   "execution_count": 7,
   "id": "4a93ad7e-48c3-45b8-94b7-accf3094fef1",
   "metadata": {},
   "outputs": [],
   "source": [
    "train = xgb.DMatrix(X_train, label=y_train)\n",
    "valid = xgb.DMatrix(X_val, label=y_val)"
   ]
  },
  {
   "cell_type": "code",
   "execution_count": 8,
   "id": "29fc1399-d555-48c5-a8a4-6e6a1c2cbf69",
   "metadata": {},
   "outputs": [],
   "source": [
    "def objective(params):\n",
    "    with mlflow.start_run():\n",
    "        mlflow.set_tag('model', 'xgboost')\n",
    "        mlflow.log_params(params)\n",
    "        booster = xgb.train(\n",
    "            params=params,\n",
    "            dtrain=train,\n",
    "            num_boost_round=500,\n",
    "            evals=[(valid, 'validation')],\n",
    "            early_stopping_rounds=50\n",
    "        )\n",
    "        y_pred = booster.predict(valid)\n",
    "        rmse = mean_squared_error(y_val, y_pred, squared=False)\n",
    "        mlflow.log_metric(\"rmse\", rmse)\n",
    "\n",
    "    return {'loss': rmse, 'status': STATUS_OK}"
   ]
  },
  {
   "cell_type": "code",
   "execution_count": null,
   "id": "9a6edb24-e2fb-4f36-af6e-1354d9b55303",
   "metadata": {},
   "outputs": [
    {
     "name": "stdout",
     "output_type": "stream",
     "text": [
      "[0]\tvalidation-rmse:6.85629                                                                                                                                                                                               \n",
      "[1]\tvalidation-rmse:5.64934                                                                                                                                                                                               \n",
      "[2]\tvalidation-rmse:5.50788                                                                                                                                                                                               \n",
      "[3]\tvalidation-rmse:5.42541                                                                                                                                                                                               \n",
      "[4]\tvalidation-rmse:5.37605                                                                                                                                                                                               \n",
      "[5]\tvalidation-rmse:5.26359                                                                                                                                                                                               \n",
      "[6]\tvalidation-rmse:5.25492                                                                                                                                                                                               \n",
      "[7]\tvalidation-rmse:5.24229                                                                                                                                                                                               \n",
      "[8]\tvalidation-rmse:5.22655                                                                                                                                                                                               \n",
      "[9]\tvalidation-rmse:5.22402                                                                                                                                                                                               \n",
      "[10]\tvalidation-rmse:5.22276                                                                                                                                                                                              \n",
      "[11]\tvalidation-rmse:5.22224                                                                                                                                                                                              \n",
      "[12]\tvalidation-rmse:5.22154                                                                                                                                                                                              \n",
      "[13]\tvalidation-rmse:5.21990                                                                                                                                                                                              \n",
      "[14]\tvalidation-rmse:5.21938                                                                                                                                                                                              \n",
      "[15]\tvalidation-rmse:5.21770                                                                                                                                                                                              \n",
      "[16]\tvalidation-rmse:5.21798                                                                                                                                                                                              \n",
      "[17]\tvalidation-rmse:5.21660                                                                                                                                                                                              \n",
      "[18]\tvalidation-rmse:5.21633                                                                                                                                                                                              \n",
      "[19]\tvalidation-rmse:5.21639                                                                                                                                                                                              \n",
      "[20]\tvalidation-rmse:5.21566                                                                                                                                                                                              \n",
      "[21]\tvalidation-rmse:5.21510                                                                                                                                                                                              \n",
      "[22]\tvalidation-rmse:5.21427                                                                                                                                                                                              \n",
      "[23]\tvalidation-rmse:5.21385                                                                                                                                                                                              \n",
      "[24]\tvalidation-rmse:5.21350                                                                                                                                                                                              \n",
      "[25]\tvalidation-rmse:5.21315                                                                                                                                                                                              \n",
      "[26]\tvalidation-rmse:5.21231                                                                                                                                                                                              \n",
      "[27]\tvalidation-rmse:5.21196                                                                                                                                                                                              \n",
      "[28]\tvalidation-rmse:5.21162                                                                                                                                                                                              \n",
      "[29]\tvalidation-rmse:5.21181                                                                                                                                                                                              \n",
      "[30]\tvalidation-rmse:5.21165                                                                                                                                                                                              \n",
      "[31]\tvalidation-rmse:5.21141                                                                                                                                                                                              \n",
      "[32]\tvalidation-rmse:5.21129                                                                                                                                                                                              \n",
      "[33]\tvalidation-rmse:5.21095                                                                                                                                                                                              \n",
      "[34]\tvalidation-rmse:5.21068                                                                                                                                                                                              \n",
      "[35]\tvalidation-rmse:5.21048                                                                                                                                                                                              \n",
      "[36]\tvalidation-rmse:5.21037                                                                                                                                                                                              \n",
      "[37]\tvalidation-rmse:5.21018                                                                                                                                                                                              \n",
      "[38]\tvalidation-rmse:5.20995                                                                                                                                                                                              \n",
      "[39]\tvalidation-rmse:5.20984                                                                                                                                                                                              \n",
      "[40]\tvalidation-rmse:5.20942                                                                                                                                                                                              \n",
      "[41]\tvalidation-rmse:5.20929                                                                                                                                                                                              \n",
      "[42]\tvalidation-rmse:5.20916                                                                                                                                                                                              \n",
      "[43]\tvalidation-rmse:5.20851                                                                                                                                                                                              \n",
      "[44]\tvalidation-rmse:5.20828                                                                                                                                                                                              \n",
      "[45]\tvalidation-rmse:5.20817                                                                                                                                                                                              \n",
      "[46]\tvalidation-rmse:5.20807                                                                                                                                                                                              \n",
      "[47]\tvalidation-rmse:5.20846                                                                                                                                                                                              \n",
      "[48]\tvalidation-rmse:5.20759                                                                                                                                                                                              \n",
      "[49]\tvalidation-rmse:5.20694                                                                                                                                                                                              \n",
      "[50]\tvalidation-rmse:5.20761                                                                                                                                                                                              \n",
      "[51]\tvalidation-rmse:5.20746                                                                                                                                                                                              \n",
      "[52]\tvalidation-rmse:5.20734                                                                                                                                                                                              \n",
      "[53]\tvalidation-rmse:5.20735                                                                                                                                                                                              \n",
      "[54]\tvalidation-rmse:5.20666                                                                                                                                                                                              \n",
      "[55]\tvalidation-rmse:5.20655                                                                                                                                                                                              \n",
      "[56]\tvalidation-rmse:5.20688                                                                                                                                                                                              \n",
      "[57]\tvalidation-rmse:5.20641                                                                                                                                                                                              \n",
      "[58]\tvalidation-rmse:5.20625                                                                                                                                                                                              \n",
      "[59]\tvalidation-rmse:5.20600                                                                                                                                                                                              \n",
      "[60]\tvalidation-rmse:5.20587                                                                                                                                                                                              \n",
      "[61]\tvalidation-rmse:5.20562                                                                                                                                                                                              \n",
      "[62]\tvalidation-rmse:5.20543                                                                                                                                                                                              \n",
      "[63]\tvalidation-rmse:5.20568                                                                                                                                                                                              \n",
      "[64]\tvalidation-rmse:5.20561                                                                                                                                                                                              \n",
      "[65]\tvalidation-rmse:5.20533                                                                                                                                                                                              \n",
      "[66]\tvalidation-rmse:5.20481                                                                                                                                                                                              \n",
      "[67]\tvalidation-rmse:5.20472                                                                                                                                                                                              \n",
      "[68]\tvalidation-rmse:5.20447                                                                                                                                                                                              \n",
      "[69]\tvalidation-rmse:5.20491                                                                                                                                                                                              \n",
      "[70]\tvalidation-rmse:5.20413                                                                                                                                                                                              \n",
      "[71]\tvalidation-rmse:5.20392                                                                                                                                                                                              \n",
      "[72]\tvalidation-rmse:5.20424                                                                                                                                                                                              \n",
      "  0%|                                                                                                                                                                              | 0/50 [02:37<?, ?trial/s, best loss=?]"
     ]
    }
   ],
   "source": [
    "search_space = {\n",
    "    'max_depth': scope.int(hp.quniform('max_depth', 4, 100, 1)),\n",
    "    'learning_rate': hp.loguniform('learning_rate', -3, 0),\n",
    "    'reg_alpha': hp.loguniform('reg_alpha', -5, -1),\n",
    "    'reg_lambda': hp.loguniform('reg_lambda', -6, -1),\n",
    "    'min_child_weight': hp.loguniform('min_child_weight', -1, 3),\n",
    "    'objective': 'reg:squarederror',\n",
    "    'seed': 42\n",
    "}\n",
    "\n",
    "best_result = fmin(\n",
    "    fn=objective,\n",
    "    space=search_space,\n",
    "    algo=tpe.suggest,\n",
    "    max_evals=50,\n",
    "    trials=Trials()\n",
    ")"
   ]
  },
  {
   "cell_type": "code",
   "execution_count": null,
   "id": "821bd742-51a1-4f47-88fc-951bbe0e9e51",
   "metadata": {},
   "outputs": [],
   "source": []
  }
 ],
 "metadata": {
  "kernelspec": {
   "display_name": "Python 3 (ipykernel)",
   "language": "python",
   "name": "python3"
  },
  "language_info": {
   "codemirror_mode": {
    "name": "ipython",
    "version": 3
   },
   "file_extension": ".py",
   "mimetype": "text/x-python",
   "name": "python",
   "nbconvert_exporter": "python",
   "pygments_lexer": "ipython3",
   "version": "3.11.7"
  }
 },
 "nbformat": 4,
 "nbformat_minor": 5
}
