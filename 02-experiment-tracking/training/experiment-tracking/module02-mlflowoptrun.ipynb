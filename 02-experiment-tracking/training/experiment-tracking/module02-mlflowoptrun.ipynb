{
 "cells": [
  {
   "cell_type": "code",
   "execution_count": 1,
   "id": "4477ad21-b04f-476c-b2a0-aa184937e59d",
   "metadata": {},
   "outputs": [],
   "source": [
    "# Import packages for preparing and training data\n",
    "import numpy as np\n",
    "import pandas as pd\n",
    "from sklearn.feature_extraction import DictVectorizer\n",
    "from sklearn.linear_model import LinearRegression\n",
    "from sklearn.linear_model import Lasso\n",
    "from sklearn.metrics import mean_squared_error"
   ]
  },
  {
   "cell_type": "code",
   "execution_count": 2,
   "id": "0455b15f-a1c1-4999-8051-5b1c67f9bf5a",
   "metadata": {},
   "outputs": [
    {
     "data": {
      "text/plain": [
       "<Experiment: artifact_location='/home/eduga_1514/mlops-zoomcamp-root/eduga-mlops-zoomcamp/02-experiment-tracking/training/experiment-tracking/mlruns/1', creation_time=1716587323151, experiment_id='1', last_update_time=1716587323151, lifecycle_stage='active', name='nyc-taxi-experiment', tags={}>"
      ]
     },
     "execution_count": 2,
     "metadata": {},
     "output_type": "execute_result"
    }
   ],
   "source": [
    "# Import MLFlow for experiment tracking\n",
    "import mlflow\n",
    "\n",
    "mlflow.set_tracking_uri(\"sqlite:///mlflow.db\")\n",
    "mlflow.set_experiment(\"nyc-taxi-experiment\")"
   ]
  },
  {
   "cell_type": "code",
   "execution_count": 3,
   "id": "fa984e6a-f8e3-4b3b-8583-75cf7aba58c4",
   "metadata": {},
   "outputs": [],
   "source": [
    "# Import xgb and hyperopt\n",
    "\n",
    "import xgboost as xgb\n",
    "\n",
    "from hyperopt import fmin, tpe, hp, STATUS_OK, Trials\n",
    "from hyperopt.pyll import scope"
   ]
  },
  {
   "cell_type": "code",
   "execution_count": 4,
   "id": "586ac692-1d5e-423a-8f6f-dfecbd8acbba",
   "metadata": {},
   "outputs": [],
   "source": [
    "# Compact steps above into a function\n",
    "def prepare_taxi_data(file, target, categorical):\n",
    "    df = pd.read_parquet(file)\n",
    "    df[\"duration\"] = df[\"tpep_dropoff_datetime\"] - df[\"tpep_pickup_datetime\"]\n",
    "    df[\"duration\"] = pd.to_timedelta(df[\"duration\"])/pd.Timedelta('60s')\n",
    "\n",
    "    outliers_indices = np.where((df[target] < 1) | (df[target] > 60))\n",
    "    df = df.drop(outliers_indices[0])\n",
    "\n",
    "    df[categorical] = df[categorical].astype(str)\n",
    "\n",
    "    return df"
   ]
  },
  {
   "cell_type": "code",
   "execution_count": 5,
   "id": "1500acf6-7f20-45f9-95b4-2922ff7cb024",
   "metadata": {},
   "outputs": [],
   "source": [
    "# Prepare training data\n",
    "training_df = prepare_taxi_data(\n",
    "    '../../../data/yellow_tripdata_2023-01.parquet', target='duration', categorical=['PULocationID', 'DOLocationID']\n",
    ")\n",
    "\n",
    "# Prepare validation data\n",
    "validate_df = prepare_taxi_data(\n",
    "    '../../../data/yellow_tripdata_2023-02.parquet', target='duration', categorical=['PULocationID', 'DOLocationID']\n",
    ")"
   ]
  },
  {
   "cell_type": "code",
   "execution_count": 6,
   "id": "8ab7a4c2-d1b8-42bb-a1de-58d1da75e567",
   "metadata": {},
   "outputs": [],
   "source": [
    "# One-hot encode and get features matrix\n",
    "dv = DictVectorizer()\n",
    "\n",
    "train_dicts = training_df[['PULocationID', 'DOLocationID']].to_dict(orient='records')\n",
    "X_train = dv.fit_transform(train_dicts)\n",
    "\n",
    "val_dicts = validate_df[['PULocationID', 'DOLocationID']].to_dict(orient='records')\n",
    "X_val = dv.transform(val_dicts)\n",
    "\n",
    "# Prepare target values to train the model\n",
    "y_train = training_df['duration'].values\n",
    "y_val = validate_df['duration'].values"
   ]
  },
  {
   "cell_type": "code",
   "execution_count": 7,
   "id": "ad82e91b-f8e6-4854-b68b-d088debd110c",
   "metadata": {},
   "outputs": [],
   "source": [
    "train = xgb.DMatrix(X_train, label=y_train)\n",
    "valid = xgb.DMatrix(X_val, label=y_val)"
   ]
  },
  {
   "cell_type": "code",
   "execution_count": null,
   "id": "f8bea6fb-57b2-4545-ab0c-fb7b0eb534dc",
   "metadata": {},
   "outputs": [],
   "source": [
    "# Model the best run from mlflow, performance and optimization wise\n",
    "params = {\n",
    "    'learning_rate': 0.7720684014557972,\n",
    "    'max_depth': 58,\n",
    "    'min_child_weight': 0.6989693091372148,\n",
    "    'objective': 'reg:squarederror',\n",
    "    'reg_alpha': 0.015100098245236579,\n",
    "    'reg_lambda': 0.03214589450610109,\n",
    "    'seed': 42\n",
    "}\n",
    "\n",
    "with mlflow.start_run():\n",
    "    mlflow.set_tag('model', 'xgboost')\n",
    "    mlflow.log_params(params)\n",
    "    booster = xgb.train(\n",
    "        params=params,\n",
    "        dtrain=train,\n",
    "        num_boost_round=250,\n",
    "        evals=[(valid, 'validation')],\n",
    "        early_stopping_rounds=50\n",
    "    )\n",
    "    y_pred = booster.predict(valid)\n",
    "    rmse = mean_squared_error(y_val, y_pred, squared=False)\n",
    "    mlflow.log_metric(\"rmse\", rmse)"
   ]
  }
 ],
 "metadata": {
  "kernelspec": {
   "display_name": "Python 3 (ipykernel)",
   "language": "python",
   "name": "python3"
  },
  "language_info": {
   "codemirror_mode": {
    "name": "ipython",
    "version": 3
   },
   "file_extension": ".py",
   "mimetype": "text/x-python",
   "name": "python",
   "nbconvert_exporter": "python",
   "pygments_lexer": "ipython3",
   "version": "3.11.7"
  }
 },
 "nbformat": 4,
 "nbformat_minor": 5
}
