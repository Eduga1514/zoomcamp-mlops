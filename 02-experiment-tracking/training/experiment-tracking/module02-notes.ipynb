{
 "cells": [
  {
   "cell_type": "markdown",
   "id": "e161607c-ce37-42c6-91ab-7b69ce0579e3",
   "metadata": {},
   "source": [
    "## About operating MLflow client with python\n",
    "- With the MLflow client class, you can modify tags, push to model registry, change aliases and descriptions, and basically operate the client in the same way as in the UI, but programmatically\n",
    "- Other things that can be done:\n",
    "    - Fetch metrics from a specific model or run, sort, and filter\n",
    "    - Update model version\n",
    "    - \n",
    "- A good use case for this is automating the creation and releases of new models when the production model has an underwhelming performance, or to periodically refine the model when new data is available\n",
    "\n",
    "## About runninng MLflow with GCP\n",
    "- Ideally, to run MLflow in GCP a separate server can be set up\n",
    "- **Things needed**:\n",
    "    - A PostgreSQL instance to run MLflow\n",
    "    - A Cloud Storage bucket to use as a remote artifact repository\n",
    "    - A container repository in Artifact Registry to store the containers for Cloud Run\n",
    "- After creating a service account, and properly authorize github actions via secrets, a new github workflow can be run to build and deploy the container after pushing the code to github"
   ]
  },
  {
   "cell_type": "code",
   "execution_count": null,
   "id": "e52295e4-1c40-4898-b559-8d7c72406447",
   "metadata": {},
   "outputs": [],
   "source": []
  }
 ],
 "metadata": {
  "kernelspec": {
   "display_name": "Python 3 (ipykernel)",
   "language": "python",
   "name": "python3"
  },
  "language_info": {
   "codemirror_mode": {
    "name": "ipython",
    "version": 3
   },
   "file_extension": ".py",
   "mimetype": "text/x-python",
   "name": "python",
   "nbconvert_exporter": "python",
   "pygments_lexer": "ipython3",
   "version": "3.11.7"
  }
 },
 "nbformat": 4,
 "nbformat_minor": 5
}
